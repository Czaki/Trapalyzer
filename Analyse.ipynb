{
 "cells": [
  {
   "cell_type": "code",
   "execution_count": null,
   "metadata": {},
   "outputs": [],
   "source": [
    "from PartSeg.utils.analysis.load_functions import LoadImage\n",
    "from PartSeg.utils.analysis import load_metadata, analysis_algorithm_dict\n",
    "import tifffile\n",
    "from glob import glob \n",
    "from matplotlib import pyplot as plt \n",
    "import SimpleITK as sitk \n",
    "import numpy as np \n",
    "from skimage.filters import rank\n",
    "from skimage.morphology import disk"
   ]
  },
  {
   "cell_type": "code",
   "execution_count": null,
   "metadata": {},
   "outputs": [],
   "source": [
    "files_list = glob(\"/media/czaki/Grzesiek/Neutrofile/2019_04_24--ecoli_neu_tiff_converted/*\")"
   ]
  },
  {
   "cell_type": "code",
   "execution_count": null,
   "metadata": {},
   "outputs": [],
   "source": [
    "file_path = files_list[0]"
   ]
  },
  {
   "cell_type": "code",
   "execution_count": null,
   "metadata": {},
   "outputs": [],
   "source": [
    "project_tuple = LoadImage.load([file_path])"
   ]
  },
  {
   "cell_type": "code",
   "execution_count": null,
   "metadata": {},
   "outputs": [],
   "source": [
    "data = project_tuple.image.get_channel(1)[0, 0]"
   ]
  },
  {
   "cell_type": "code",
   "execution_count": null,
   "metadata": {},
   "outputs": [],
   "source": [
    "res1 = sitk.GetArrayFromImage(sitk.CannyEdgeDetection(sitk.GetImageFromArray(data.astype(np.float))))\n",
    "res2 = sitk.GetArrayFromImage(sitk.CannyEdgeDetection(sitk.GetImageFromArray(np.min([project_tuple.image.get_channel(i)[0, 0] for i in range(3)], axis=0).astype(np.float))))"
   ]
  },
  {
   "cell_type": "code",
   "execution_count": null,
   "metadata": {},
   "outputs": [],
   "source": [
    "radius = 10\n",
    "selem = disk(radius)\n",
    "res1 = rank.otsu(data, selem)\n",
    "res2 = data < res1"
   ]
  },
  {
   "cell_type": "code",
   "execution_count": null,
   "metadata": {},
   "outputs": [],
   "source": [
    "area = (slice(420, 650), slice(950, 1150))\n",
    "f, axx = plt.subplots(3, 2, figsize= (15, 20))\n",
    "\n",
    "axx[0,0].imshow(data[area], vmin=140, vmax=230)\n",
    "axx[0,1].imshow(project_tuple.image.get_channel(1)[0, 0][area], vmin=140, vmax=230)\n",
    "axx[1,0].imshow(project_tuple.image.get_channel(2)[0, 0][area], vmin=140, vmax=230)\n",
    "axx[1,1].imshow(np.min([project_tuple.image.get_channel(i)[0, 0] for i in range(3)], axis=0)[area], vmin=140, vmax=230)\n",
    "axx[2,0].imshow(res1[area])\n",
    "axx[2,1].imshow(res2[area])"
   ]
  },
  {
   "cell_type": "code",
   "execution_count": null,
   "metadata": {},
   "outputs": [],
   "source": [
    "np.max([project_tuple.image.get_channel(i)[0, 0] for i in range(3)], axis=0)[area].max()"
   ]
  }
 ],
 "metadata": {
  "kernelspec": {
   "display_name": "Python 3",
   "language": "python",
   "name": "python3"
  },
  "language_info": {
   "codemirror_mode": {
    "name": "ipython",
    "version": 3
   },
   "file_extension": ".py",
   "mimetype": "text/x-python",
   "name": "python",
   "nbconvert_exporter": "python",
   "pygments_lexer": "ipython3",
   "version": "3.6.8"
  }
 },
 "nbformat": 4,
 "nbformat_minor": 2
}
