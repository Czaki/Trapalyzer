{
 "cells": [
  {
   "cell_type": "code",
   "execution_count": null,
   "metadata": {},
   "outputs": [],
   "source": [
    "from glob import glob\n",
    "from PartSeg.tiff_image import ImageReader, Image, ImageWriter\n",
    "import tifffile\n",
    "from matplotlib import pyplot as plt \n",
    "import os \n",
    "import numpy as np"
   ]
  },
  {
   "cell_type": "code",
   "execution_count": null,
   "metadata": {},
   "outputs": [],
   "source": [
    "file_list = glob(\"/media/czaki/Grzesiek/Neutrofile/2019_04_24--ecoli_neu_tiff/*ch00.tif\")"
   ]
  },
  {
   "cell_type": "code",
   "execution_count": null,
   "metadata": {},
   "outputs": [],
   "source": [
    "def join_files(file_path):\n",
    "    base_path, ext = os.path.splitext(file_path)\n",
    "    images = [ImageReader.read_image(base_path[:-1] + str(i) + ext) for i in range(3)]\n",
    "    channels = [images[0].get_channel(i) for i in range(3)] + [images[1].get_channel(1), images[2].get_channel(2)]\n",
    "    image = Image(np.moveaxis(np.stack(channels), 0, -1), images[0].spacing, base_path[:-5] + ext) \n",
    "    return image"
   ]
  },
  {
   "cell_type": "code",
   "execution_count": null,
   "metadata": {},
   "outputs": [],
   "source": [
    "for fp in file_list:\n",
    "    image = join_files(fp)\n",
    "    ImageWriter.save(image, \n",
    "                     os.path.join(\n",
    "                         \"/media/czaki/Grzesiek/Neutrofile/2019_04_24--ecoli_neu_tiff_converted\", \n",
    "                         os.path.basename(image.file_path)))"
   ]
  },
  {
   "cell_type": "code",
   "execution_count": null,
   "metadata": {},
   "outputs": [],
   "source": []
  },
  {
   "cell_type": "code",
   "execution_count": null,
   "metadata": {},
   "outputs": [],
   "source": [
    "tifffile.imshow(image.get_data()[0,0])"
   ]
  },
  {
   "cell_type": "code",
   "execution_count": null,
   "metadata": {},
   "outputs": [],
   "source": [
    "for image in images: \n",
    "    tifffile.imshow(image.get_data())"
   ]
  },
  {
   "cell_type": "code",
   "execution_count": null,
   "metadata": {},
   "outputs": [],
   "source": []
  }
 ],
 "metadata": {
  "kernelspec": {
   "display_name": "Python 3",
   "language": "python",
   "name": "python3"
  },
  "language_info": {
   "codemirror_mode": {
    "name": "ipython",
    "version": 3
   },
   "file_extension": ".py",
   "mimetype": "text/x-python",
   "name": "python",
   "nbconvert_exporter": "python",
   "pygments_lexer": "ipython3",
   "version": "3.6.8"
  }
 },
 "nbformat": 4,
 "nbformat_minor": 2
}
