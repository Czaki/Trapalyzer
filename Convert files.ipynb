{
 "cells": [
  {
   "cell_type": "code",
   "execution_count": 1,
   "metadata": {},
   "outputs": [],
   "source": [
    "from glob import glob\n",
    "from PartSeg.tiff_image import ImageReader, Image, ImageWriter\n",
    "from PartSeg import utils\n",
    "import tifffile\n",
    "#from matplotlib import pyplot as plt \n",
    "import os \n",
    "import numpy as np"
   ]
  },
  {
   "cell_type": "code",
   "execution_count": 2,
   "metadata": {},
   "outputs": [],
   "source": [
    "file_list = glob(\"/Volumes/Grzesiek/Neutrofile/2019_04_24--ecoli_neu_tiff/*ch00.tif\")"
   ]
  },
  {
   "cell_type": "code",
   "execution_count": 3,
   "metadata": {},
   "outputs": [],
   "source": [
    "def join_files(file_path):\n",
    "    base_path, ext = os.path.splitext(file_path)\n",
    "    images = [ImageReader.read_image(base_path[:-1] + str(i) + ext) for i in range(3)]\n",
    "    channels = [images[1].get_channel(1), images[2].get_channel(2)] + [images[0].get_channel(i) for i in range(3)]\n",
    "    image = Image(np.moveaxis(np.stack(channels), 0, -1), [1/utils.UNIT_SCALE[utils.Units.nm.value] for _ in range(2)], base_path[:-5] + ext) \n",
    "    return image"
   ]
  },
  {
   "cell_type": "code",
   "execution_count": 4,
   "metadata": {},
   "outputs": [],
   "source": [
    "for fp in file_list:\n",
    "    image = join_files(fp)\n",
    "    ImageWriter.save(image, \n",
    "                     os.path.join(\n",
    "                         \"/Volumes/Grzesiek/Neutrofile/2019_04_24--ecoli_neu_tiff_converted\", \n",
    "                         os.path.basename(image.file_path)))"
   ]
  },
  {
   "cell_type": "code",
   "execution_count": 5,
   "metadata": {},
   "outputs": [],
   "source": [
    "file_list2 = glob(\"/Volumes/Grzesiek/Neutrofile/2019_04_24--ecoli_neu_tiff_converted/*.tif\")"
   ]
  },
  {
   "cell_type": "code",
   "execution_count": 6,
   "metadata": {},
   "outputs": [],
   "source": [
    "img = ImageReader.read_image(\"/Volumes/Grzesiek/Neutrofile/2019_04_24--ecoli_neu_tiff_converted/Ecoli neu_120 min 1 1E-1N 001.tif\")"
   ]
  },
  {
   "cell_type": "code",
   "execution_count": 7,
   "metadata": {},
   "outputs": [
    {
     "data": {
      "text/plain": [
       "(1e-09, 1e-09)"
      ]
     },
     "execution_count": 7,
     "metadata": {},
     "output_type": "execute_result"
    }
   ],
   "source": [
    "img.spacing"
   ]
  },
  {
   "cell_type": "code",
   "execution_count": null,
   "metadata": {},
   "outputs": [],
   "source": [
    "for image in images: \n",
    "    tifffile.imshow(image.get_data())"
   ]
  },
  {
   "cell_type": "code",
   "execution_count": 6,
   "metadata": {},
   "outputs": [],
   "source": [
    "import importlib\n",
    "from PartSeg.tiff_image import image_reader, image_writer, image"
   ]
  },
  {
   "cell_type": "code",
   "execution_count": 7,
   "metadata": {},
   "outputs": [
    {
     "data": {
      "text/plain": [
       "<module 'PartSeg.tiff_image.image_writer' from '/Users/grzegorzbokota/Documents/projekty/segmentacja-gui/package/PartSeg/tiff_image/image_writer.py'>"
      ]
     },
     "execution_count": 7,
     "metadata": {},
     "output_type": "execute_result"
    }
   ],
   "source": [
    "importlib.reload(image_reader)\n",
    "importlib.reload(image)\n",
    "importlib.reload(image_writer)"
   ]
  },
  {
   "cell_type": "code",
   "execution_count": null,
   "metadata": {},
   "outputs": [],
   "source": []
  }
 ],
 "metadata": {
  "kernelspec": {
   "display_name": "Python 3",
   "language": "python",
   "name": "python3"
  },
  "language_info": {
   "codemirror_mode": {
    "name": "ipython",
    "version": 3
   },
   "file_extension": ".py",
   "mimetype": "text/x-python",
   "name": "python",
   "nbconvert_exporter": "python",
   "pygments_lexer": "ipython3",
   "version": "3.6.6"
  }
 },
 "nbformat": 4,
 "nbformat_minor": 2
}
